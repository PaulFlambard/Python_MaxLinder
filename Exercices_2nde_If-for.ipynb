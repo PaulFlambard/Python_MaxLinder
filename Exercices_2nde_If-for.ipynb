{
 "cells": [
  {
   "cell_type": "markdown",
   "metadata": {},
   "source": [
    "# Exercices sur l'instruction conditionnelle et la boucle bornée"
   ]
  },
  {
   "cell_type": "markdown",
   "metadata": {},
   "source": [
    "## Instruction conditionnelle"
   ]
  },
  {
   "cell_type": "markdown",
   "metadata": {},
   "source": [
    "### Exercice 1"
   ]
  },
  {
   "cell_type": "markdown",
   "metadata": {},
   "source": [
    "Compléter les cellules suivantes afin que les tets renvoient True."
   ]
  },
  {
   "cell_type": "code",
   "execution_count": null,
   "metadata": {},
   "outputs": [],
   "source": [
    "36 ... 9*4"
   ]
  },
  {
   "cell_type": "code",
   "execution_count": null,
   "metadata": {},
   "outputs": [],
   "source": [
    "25 == ..."
   ]
  },
  {
   "cell_type": "code",
   "execution_count": null,
   "metadata": {},
   "outputs": [],
   "source": [
    "7 ... 4"
   ]
  },
  {
   "cell_type": "code",
   "execution_count": null,
   "metadata": {},
   "outputs": [],
   "source": [
    "5*2 == 10 ... 2 < 1 #penser à and / or"
   ]
  },
  {
   "cell_type": "markdown",
   "metadata": {},
   "source": [
    "### Exercice 2"
   ]
  },
  {
   "cell_type": "markdown",
   "metadata": {},
   "source": [
    "Compléter le script de la fonction en Python afin qu'elle calcule le prix d'achat de lots de 10 masques FFP2, sachant que l'entreprise propose ce tarif dégressif :\n",
    "- pour un achat de 5 lots de masques ou moins, le prix unitaire du lot est de 52 € ;\n",
    "- pour un achat de 6 à 20 lots de masques, le prix unitaire du lot est de 45 € ;\n",
    "- pour un achat de 21 à 50 lots de masques, le prix unitaire du lot est de 41 € ;\n",
    "- pour un achat de plus de 51 lots, le prix untiaire du lot est de 38 €."
   ]
  },
  {
   "cell_type": "code",
   "execution_count": null,
   "metadata": {},
   "outputs": [],
   "source": [
    "def total_comm(n):\n",
    "    assert type(n) is int and n > 0 #force l'utilisateur à rentrer un nombre entier positif de lots#\n",
    "    if n <= 5:\n",
    "        return 52*n\n",
    "    if n <= 20:\n",
    "        return ...\n",
    "    if ...\n",
    "        ...\n",
    "    ..."
   ]
  },
  {
   "cell_type": "markdown",
   "metadata": {},
   "source": [
    "Tester le script :"
   ]
  },
  {
   "cell_type": "code",
   "execution_count": null,
   "metadata": {},
   "outputs": [],
   "source": [
    "total_comm(4), total_comm(10), total_comm(30), total_comm(60)"
   ]
  },
  {
   "cell_type": "markdown",
   "metadata": {},
   "source": [
    "## Boucle bornée"
   ]
  },
  {
   "cell_type": "markdown",
   "metadata": {},
   "source": [
    "### Exercice 3"
   ]
  },
  {
   "cell_type": "markdown",
   "metadata": {},
   "source": [
    "Compléter chaque script afin qu'après exécution de la cellule, 'spam' soit affiché 6 fois."
   ]
  },
  {
   "cell_type": "code",
   "execution_count": null,
   "metadata": {},
   "outputs": [],
   "source": [
    "for k in range(...):\n",
    "    print('spam')"
   ]
  },
  {
   "cell_type": "code",
   "execution_count": null,
   "metadata": {},
   "outputs": [],
   "source": [
    "for i in range(1, ...):\n",
    "    print('spam')"
   ]
  },
  {
   "cell_type": "code",
   "execution_count": null,
   "metadata": {},
   "outputs": [],
   "source": [
    "for i in range(5, ...):\n",
    "    print('spam')"
   ]
  },
  {
   "cell_type": "code",
   "execution_count": null,
   "metadata": {},
   "outputs": [],
   "source": [
    "for _ in range(1, 13, ...):\n",
    "    print('spam')"
   ]
  },
  {
   "cell_type": "markdown",
   "metadata": {},
   "source": [
    "### Exercice 4"
   ]
  },
  {
   "cell_type": "markdown",
   "metadata": {},
   "source": [
    "Compléter le script pour qu'après exécution de la cellule, la variable cpt ait la valeur 10."
   ]
  },
  {
   "cell_type": "code",
   "execution_count": null,
   "metadata": {},
   "outputs": [],
   "source": [
    "cpt = 0\n",
    "for k in range(...):\n",
    "    cpt = cpt + 1"
   ]
  },
  {
   "cell_type": "markdown",
   "metadata": {},
   "source": [
    "### Exercice 5"
   ]
  },
  {
   "cell_type": "markdown",
   "metadata": {},
   "source": [
    "Compléter le script pour qu'après exécution de la cellule, la variable mult ait la valeur 128.\n",
    "Remarque : 128 = 2**7."
   ]
  },
  {
   "cell_type": "code",
   "execution_count": null,
   "metadata": {},
   "outputs": [],
   "source": [
    "mult = 1\n",
    "fot j in range(...):\n",
    "    cpt = cpt*2"
   ]
  },
  {
   "cell_type": "markdown",
   "metadata": {},
   "source": [
    "### Exercice 6"
   ]
  },
  {
   "cell_type": "markdown",
   "metadata": {},
   "source": [
    "L'application Zerdee propose des abonnements pour pouvoir écouter et télécharger de la musique. En janvier 2019, elle comptait 845 000 utilisateurs\n",
    "Chaque mois : \n",
    "- 12 % des abonnés ne renouvellent pas leur abonnement (fin du contrat, résiliation, ...) ;\n",
    "- 105 000 utilisateurs optent pour un abonnement.\n",
    "Compléter la fonction en Python pour qu'elle donne en sortie le nombre d'abonnés au bout de n mois où n est la variable d'entrée pour cette fonction."
   ]
  },
  {
   "cell_type": "code",
   "execution_count": null,
   "metadata": {},
   "outputs": [],
   "source": [
    "def nb_abo(n):\n",
    "    assert type(n) is int and n > 0 #force l'utilisateur à rentrer un nombre entier positif de lots#\n",
    "    abo = 845000\n",
    "    for k in range(...):\n",
    "        abo = ...\n",
    "    return ..."
   ]
  },
  {
   "cell_type": "markdown",
   "metadata": {},
   "source": [
    "En utilisant la fonction complétée, déterminer le nombre d'utilisateurs en janvier 2020, puis celui juillet 2020 et celui en janvier 2021."
   ]
  },
  {
   "cell_type": "code",
   "execution_count": null,
   "metadata": {},
   "outputs": [],
   "source": []
  },
  {
   "cell_type": "code",
   "execution_count": null,
   "metadata": {},
   "outputs": [],
   "source": []
  },
  {
   "cell_type": "code",
   "execution_count": null,
   "metadata": {},
   "outputs": [],
   "source": []
  },
  {
   "cell_type": "markdown",
   "metadata": {},
   "source": [
    "Reprendre la question précédente avec l'application concurrente Ifyspot, sachant que :\n",
    "- elle comptait 960 000 utilisateurs en janiver 2019 ;\n",
    "- elle perd 17 % de ses abonnés chaque mois ;\n",
    "- elle gagne 126 000 abonnés chaue mois."
   ]
  },
  {
   "cell_type": "code",
   "execution_count": null,
   "metadata": {},
   "outputs": [],
   "source": []
  }
 ],
 "metadata": {
  "kernelspec": {
   "display_name": "Python 3",
   "language": "python",
   "name": "python3"
  },
  "language_info": {
   "codemirror_mode": {
    "name": "ipython",
    "version": 3
   },
   "file_extension": ".py",
   "mimetype": "text/x-python",
   "name": "python",
   "nbconvert_exporter": "python",
   "pygments_lexer": "ipython3",
   "version": "3.7.6"
  }
 },
 "nbformat": 4,
 "nbformat_minor": 4
}
