{
 "cells": [
  {
   "cell_type": "markdown",
   "metadata": {},
   "source": [
    "# Python : introduction"
   ]
  },
  {
   "cell_type": "markdown",
   "metadata": {},
   "source": [
    "PYTHON est un langage de programmation, placé sous licence libre (licence BSD). La première version date de\n",
    "1990, et son créateur et leader est Guido VAN ROSSUM, grand fan de la série télévisée Monty Python’s Flying\n",
    "Circus. Sa conception a été notamment influencé par les langages C, Java, Perl et Tcl."
   ]
  },
  {
   "cell_type": "markdown",
   "metadata": {},
   "source": [
    "• C’est un logiciel multi-plateforme : de Linux à Windows, en passant par macOS mais aussi de Android à\n",
    "iOS (sur smartphone : Jailbreak (iOS), Pydroid3 (Android)).\n",
    "\n",
    "• Foultitude d’entreprises travaillent avec ; le langage dispose d’une syntaxe épurée.\n",
    "\n",
    "• Le langage a une syntaxe mettant de côté les mécanismes de « bas niveau » : on n’interagit pas avec les espaces mémoires et autes joyeusetés."
   ]
  },
  {
   "cell_type": "markdown",
   "metadata": {},
   "source": [
    "On travaille avec plusieurs Environnements de Développement Intégré (EDI, souvent utilisé en version anglaise : IDE) : IDE Python de base, Thonny, et ici Jupyter."
   ]
  },
  {
   "cell_type": "markdown",
   "metadata": {},
   "source": [
    "# Opérations"
   ]
  },
  {
   "cell_type": "markdown",
   "metadata": {},
   "source": [
    "## Calculs élémentaires"
   ]
  },
  {
   "cell_type": "markdown",
   "metadata": {},
   "source": [
    "Exécuter les cellules suivantes. En déduire :\n",
    " - les touches permettant de réaliser l'addition, la soustraction, la multiplication, la division, la puissance, les fractions ;\n",
    " - si Python connaît les règles de priorité du calcul ;\n",
    " - la manière d'écrire un nombre en écriture décimal.\n",
    "\n",
    "Certains phénomènes inattendus se produisent-ils ?"
   ]
  },
  {
   "cell_type": "code",
   "execution_count": null,
   "metadata": {},
   "outputs": [],
   "source": [
    "7 + 3"
   ]
  },
  {
   "cell_type": "code",
   "execution_count": null,
   "metadata": {},
   "outputs": [],
   "source": [
    "5 * 9"
   ]
  },
  {
   "cell_type": "code",
   "execution_count": null,
   "metadata": {},
   "outputs": [],
   "source": [
    "-2.3 + 5 #aptès le dièse, le code n'est pas pris en compte : cela sert à commenter au besoin le code"
   ]
  },
  {
   "cell_type": "code",
   "execution_count": null,
   "metadata": {},
   "outputs": [],
   "source": [
    "_"
   ]
  },
  {
   "cell_type": "code",
   "execution_count": null,
   "metadata": {},
   "outputs": [],
   "source": [
    "2**6"
   ]
  },
  {
   "cell_type": "code",
   "execution_count": null,
   "metadata": {},
   "outputs": [],
   "source": [
    "10**5"
   ]
  },
  {
   "cell_type": "code",
   "execution_count": null,
   "metadata": {},
   "outputs": [],
   "source": [
    "15 / 2"
   ]
  },
  {
   "cell_type": "code",
   "execution_count": null,
   "metadata": {},
   "outputs": [],
   "source": [
    "0.1 + 0.1"
   ]
  },
  {
   "cell_type": "code",
   "execution_count": null,
   "metadata": {},
   "outputs": [],
   "source": [
    "3 / 10"
   ]
  },
  {
   "cell_type": "code",
   "execution_count": null,
   "metadata": {},
   "outputs": [],
   "source": [
    "abs(-2), abs(2) #on affiche deux résultats sur la même ligne"
   ]
  },
  {
   "cell_type": "code",
   "execution_count": null,
   "metadata": {
    "scrolled": true
   },
   "outputs": [],
   "source": [
    "0.1 + 0.1 + 0.1"
   ]
  },
  {
   "cell_type": "code",
   "execution_count": null,
   "metadata": {},
   "outputs": [],
   "source": [
    "1234**4567"
   ]
  },
  {
   "cell_type": "code",
   "execution_count": null,
   "metadata": {},
   "outputs": [],
   "source": [
    "1234.0**4567"
   ]
  },
  {
   "cell_type": "code",
   "execution_count": null,
   "metadata": {},
   "outputs": [],
   "source": [
    "123.0**54"
   ]
  },
  {
   "cell_type": "code",
   "execution_count": null,
   "metadata": {},
   "outputs": [],
   "source": [
    "10**(-100) + 1 - 1"
   ]
  },
  {
   "cell_type": "code",
   "execution_count": null,
   "metadata": {},
   "outputs": [],
   "source": [
    "1 + 10**(-100) -1"
   ]
  },
  {
   "cell_type": "code",
   "execution_count": null,
   "metadata": {},
   "outputs": [],
   "source": [
    "1 - 1 + 10**(-100)"
   ]
  },
  {
   "cell_type": "markdown",
   "metadata": {},
   "source": [
    "## Typage"
   ]
  },
  {
   "cell_type": "markdown",
   "metadata": {},
   "source": [
    "On remarque que Python agit différemment sur les nombres « entiers » par rapport aux nombres non-entiers."
   ]
  },
  {
   "cell_type": "code",
   "execution_count": null,
   "metadata": {},
   "outputs": [],
   "source": [
    "type(2)"
   ]
  },
  {
   "cell_type": "code",
   "execution_count": null,
   "metadata": {},
   "outputs": [],
   "source": [
    "type(2.0)"
   ]
  },
  {
   "cell_type": "code",
   "execution_count": null,
   "metadata": {},
   "outputs": [],
   "source": [
    "type(5.1)"
   ]
  },
  {
   "cell_type": "code",
   "execution_count": null,
   "metadata": {},
   "outputs": [],
   "source": [
    "type('spam')"
   ]
  },
  {
   "cell_type": "code",
   "execution_count": null,
   "metadata": {},
   "outputs": [],
   "source": [
    "type('2')"
   ]
  },
  {
   "cell_type": "code",
   "execution_count": null,
   "metadata": {},
   "outputs": [],
   "source": [
    "2 == 2.0 #on teste l'égalité entre les deux valeurs"
   ]
  },
  {
   "cell_type": "code",
   "execution_count": null,
   "metadata": {},
   "outputs": [],
   "source": [
    "2 is 2.0 #on teste si les deux objets sont identiques"
   ]
  },
  {
   "cell_type": "code",
   "execution_count": null,
   "metadata": {},
   "outputs": [],
   "source": [
    "2 == '2'"
   ]
  },
  {
   "cell_type": "code",
   "execution_count": null,
   "metadata": {},
   "outputs": [],
   "source": [
    "type(_)"
   ]
  },
  {
   "cell_type": "markdown",
   "metadata": {},
   "source": [
    "Python classe chaque objet par « type ». À l'aide des cellules précédentes, citer quatre de ces types."
   ]
  },
  {
   "cell_type": "markdown",
   "metadata": {},
   "source": [
    "## Arrondi"
   ]
  },
  {
   "cell_type": "markdown",
   "metadata": {},
   "source": [
    "L'objet intégré round permet d'arrondir une valeur. Elle prend deux arguments :\n",
    " - la valeur $v$, au format flottant ;\n",
    " - la précision $p$, au format integer.\n",
    "La valeur $v$ est alors arrondie à $10^{-p}$ près."
   ]
  },
  {
   "cell_type": "code",
   "execution_count": null,
   "metadata": {},
   "outputs": [],
   "source": [
    "1/6"
   ]
  },
  {
   "cell_type": "code",
   "execution_count": null,
   "metadata": {},
   "outputs": [],
   "source": [
    "round(1/6, 6)"
   ]
  },
  {
   "cell_type": "code",
   "execution_count": null,
   "metadata": {},
   "outputs": [],
   "source": [
    "round(1/6 , 2)"
   ]
  },
  {
   "cell_type": "markdown",
   "metadata": {},
   "source": [
    "## Bibliothèque math"
   ]
  },
  {
   "cell_type": "markdown",
   "metadata": {},
   "source": [
    "Afin d'alléger le chargement et l'exécution du programme, Python ne charge pas nativement certaines opérations : pour utiliser ces opérations absentes de base, il faut charger certaines bibliothèques. Ici, on s'intéressera à la bibliothèque « math »."
   ]
  },
  {
   "cell_type": "code",
   "execution_count": null,
   "metadata": {},
   "outputs": [],
   "source": [
    "import math #on charge une fois dans le code la bibliothèque\n",
    "math.sqrt(2) #la fonction s'appelle sqrt et on la fait précéder du nom de sa bibliothèque"
   ]
  },
  {
   "cell_type": "code",
   "execution_count": null,
   "metadata": {},
   "outputs": [],
   "source": [
    "math.sqrt(3), math.sqrt(5) "
   ]
  },
  {
   "cell_type": "code",
   "execution_count": null,
   "metadata": {},
   "outputs": [],
   "source": [
    "math.pi"
   ]
  },
  {
   "cell_type": "code",
   "execution_count": null,
   "metadata": {},
   "outputs": [],
   "source": [
    "math.cos(math.pi) #les fonctions trigo sont en radian par défaut"
   ]
  },
  {
   "cell_type": "code",
   "execution_count": null,
   "metadata": {},
   "outputs": [],
   "source": [
    "math.asin(1/2)"
   ]
  },
  {
   "cell_type": "code",
   "execution_count": null,
   "metadata": {},
   "outputs": [],
   "source": [
    "math.e"
   ]
  },
  {
   "cell_type": "code",
   "execution_count": null,
   "metadata": {},
   "outputs": [],
   "source": [
    "math.exp(5)"
   ]
  },
  {
   "cell_type": "markdown",
   "metadata": {},
   "source": [
    "## Exercices"
   ]
  },
  {
   "cell_type": "markdown",
   "metadata": {},
   "source": [
    "Réaliser les calculs suivants en Python."
   ]
  },
  {
   "cell_type": "markdown",
   "metadata": {},
   "source": [
    "$\\left\\vert\\frac{2}{5+6}-\\frac{13}{11}\\right\\vert$"
   ]
  },
  {
   "cell_type": "code",
   "execution_count": null,
   "metadata": {},
   "outputs": [],
   "source": []
  },
  {
   "cell_type": "markdown",
   "metadata": {},
   "source": [
    "$2^{52}-3^9$"
   ]
  },
  {
   "cell_type": "code",
   "execution_count": null,
   "metadata": {},
   "outputs": [],
   "source": []
  },
  {
   "cell_type": "markdown",
   "metadata": {},
   "source": [
    "$\\left(15\\times \\frac{7}{12}\\right) \\div \\frac{15}{10}$"
   ]
  },
  {
   "cell_type": "code",
   "execution_count": null,
   "metadata": {},
   "outputs": [],
   "source": []
  },
  {
   "cell_type": "markdown",
   "metadata": {},
   "source": [
    "$9,152 \\times 6,34 \\times 0,84$"
   ]
  },
  {
   "cell_type": "code",
   "execution_count": null,
   "metadata": {},
   "outputs": [],
   "source": []
  },
  {
   "cell_type": "markdown",
   "metadata": {},
   "source": [
    "$\\frac{\\sqrt{2}}{2}-\\sqrt{1+\\mathrm{e}+\\mathrm{e}^2}$"
   ]
  },
  {
   "cell_type": "code",
   "execution_count": null,
   "metadata": {},
   "outputs": [],
   "source": []
  },
  {
   "cell_type": "markdown",
   "metadata": {},
   "source": [
    "# Variables & affectation"
   ]
  },
  {
   "cell_type": "markdown",
   "metadata": {},
   "source": [
    "## Principes de base"
   ]
  },
  {
   "cell_type": "markdown",
   "metadata": {},
   "source": [
    "Afin de faciliter la gestion des calculs, il est possible de stocker des valeurs dans des variables.\n",
    "\n",
    "En langage naturel, l'affectation est décrite ainsi : variable ← valeur.\n",
    "\n",
    "En Python, elle est implémentée par : variable = valeur."
   ]
  },
  {
   "cell_type": "code",
   "execution_count": null,
   "metadata": {},
   "outputs": [],
   "source": [
    "a #avant affectation d'une valeur, une variable renvoie un message d'erreur"
   ]
  },
  {
   "cell_type": "code",
   "execution_count": null,
   "metadata": {},
   "outputs": [],
   "source": [
    "a = 5"
   ]
  },
  {
   "cell_type": "code",
   "execution_count": null,
   "metadata": {},
   "outputs": [],
   "source": [
    "a"
   ]
  },
  {
   "cell_type": "code",
   "execution_count": null,
   "metadata": {},
   "outputs": [],
   "source": [
    "var = 7\n",
    "var = var + 2\n",
    "print(var)"
   ]
  },
  {
   "cell_type": "code",
   "execution_count": null,
   "metadata": {},
   "outputs": [],
   "source": [
    "x = 7\n",
    "y = x**2 - 4*x #attention 4x n'est pas compris, il faut bien 4*x\n",
    "print(y)"
   ]
  },
  {
   "cell_type": "code",
   "execution_count": null,
   "metadata": {},
   "outputs": [],
   "source": [
    "b, c = 14, 2.3\n",
    "print(b, c)"
   ]
  },
  {
   "cell_type": "code",
   "execution_count": null,
   "metadata": {},
   "outputs": [],
   "source": [
    "p, q = 1, 30\n",
    "q, p = p, q\n",
    "print(p, q)"
   ]
  },
  {
   "cell_type": "markdown",
   "metadata": {},
   "source": [
    "## Entrée de l'utilisateur : version naïve"
   ]
  },
  {
   "cell_type": "markdown",
   "metadata": {},
   "source": [
    "L'objet intégré « input » permet de demander à l'utilisateur de rentrer une valeur au moment de l'exécution. Par défaut, Python considère que c'est une chaîne de caractère : selon les usages, il faudra donc forcer le typage de cette variable."
   ]
  },
  {
   "cell_type": "code",
   "execution_count": null,
   "metadata": {},
   "outputs": [],
   "source": [
    "a = input('Rentrer la valeur voulue pour a : ')"
   ]
  },
  {
   "cell_type": "code",
   "execution_count": null,
   "metadata": {},
   "outputs": [],
   "source": [
    "a, type(a)"
   ]
  },
  {
   "cell_type": "code",
   "execution_count": null,
   "metadata": {},
   "outputs": [],
   "source": [
    "b = int(input('Rentrer la valeur voulue pour b : '))"
   ]
  },
  {
   "cell_type": "code",
   "execution_count": null,
   "metadata": {},
   "outputs": [],
   "source": [
    "b, type(b)"
   ]
  },
  {
   "cell_type": "code",
   "execution_count": null,
   "metadata": {},
   "outputs": [],
   "source": [
    "c = float(input('Rentrer la valeur voulue pour c : '))"
   ]
  },
  {
   "cell_type": "code",
   "execution_count": null,
   "metadata": {},
   "outputs": [],
   "source": [
    "c, type(c)"
   ]
  },
  {
   "cell_type": "markdown",
   "metadata": {},
   "source": [
    "## Exercices"
   ]
  },
  {
   "cell_type": "markdown",
   "metadata": {},
   "source": [
    "Coder en Python le script suivant."
   ]
  },
  {
   "cell_type": "markdown",
   "metadata": {},
   "source": [
    "Entrée : $a$ ; $b$ ; $c$ trois nombres positifs choisis par l'utilisateur.\n",
    "\n",
    "$p \\leftarrow \\frac{a+b+c}{2}$\n",
    "\n",
    "$s \\leftarrow \\sqrt{p(p-a)(p-b)(p-c)}$\n",
    "\n",
    "Afficher $2p$ ; $s$"
   ]
  },
  {
   "cell_type": "code",
   "execution_count": null,
   "metadata": {},
   "outputs": [],
   "source": []
  },
  {
   "cell_type": "markdown",
   "metadata": {},
   "source": [
    "# Fonctions"
   ]
  },
  {
   "cell_type": "markdown",
   "metadata": {},
   "source": [
    "## Structure def ... return"
   ]
  },
  {
   "cell_type": "markdown",
   "metadata": {},
   "source": [
    "Une fonction informatique est un objet :\n",
    " - avec zéro, un ou plusieurs arguments dont l’utilisateur choisit la valeur au moment de l’exécution ;\n",
    " - renvoie une sortie (numérique ou non)."
   ]
  },
  {
   "cell_type": "markdown",
   "metadata": {},
   "source": [
    "Exécuter la cellule suivante."
   ]
  },
  {
   "cell_type": "code",
   "execution_count": null,
   "metadata": {},
   "outputs": [],
   "source": [
    "def fonction(arg):\n",
    "    sortie = arg**3 - arg**2 - arg - 1\n",
    "    return sortie"
   ]
  },
  {
   "cell_type": "markdown",
   "metadata": {},
   "source": [
    "L'exécution a simplement permis l'enregistrement de la fonction. Maintenant, on peut l'exécuter par simple choix d'une valeur de son argument."
   ]
  },
  {
   "cell_type": "code",
   "execution_count": null,
   "metadata": {},
   "outputs": [],
   "source": [
    "fonction(2), fonction(7)"
   ]
  },
  {
   "cell_type": "code",
   "execution_count": null,
   "metadata": {},
   "outputs": [],
   "source": [
    "choix = float(input('arg = '))\n",
    "fonction(choix)"
   ]
  },
  {
   "cell_type": "code",
   "execution_count": null,
   "metadata": {},
   "outputs": [],
   "source": [
    "import math\n",
    "def A_cy(rayon, haut): \n",
    "    '''renvoie l'aire d'un cylindre de rayon et hauteur donnés''' \n",
    "    #on peut décrire le fonctionnement d'une fonction à l'aide de cet espace '''...''' appelé docstring\n",
    "    a_disque = math.pi*rayon**2\n",
    "    a_rect = 2*math.pi*rayon*haut #le rectangle a pour largeur le périèmtre d'un cercle et pour longueur la hauteur\n",
    "    return 2*a_disque + a_rect \n",
    "\n",
    "A_cy(4, 10)"
   ]
  },
  {
   "cell_type": "markdown",
   "metadata": {},
   "source": [
    "## Structure lambda"
   ]
  },
  {
   "cell_type": "markdown",
   "metadata": {},
   "source": [
    "Pour des fonctions numériques simples, il existe une rédaction alternative."
   ]
  },
  {
   "cell_type": "code",
   "execution_count": null,
   "metadata": {},
   "outputs": [],
   "source": [
    "psi = lambda x: x**3 - x**2 - x - 1\n",
    "psi(2), psi(7)"
   ]
  },
  {
   "cell_type": "markdown",
   "metadata": {},
   "source": [
    "## Exercices"
   ]
  },
  {
   "cell_type": "markdown",
   "metadata": {},
   "source": [
    "### Rédiger sous forme de fonction en Python les fonctions numériques suivantes."
   ]
  },
  {
   "cell_type": "markdown",
   "metadata": {},
   "source": [
    "$f$ est la fonction d'expression $f(x)=5x-9$."
   ]
  },
  {
   "cell_type": "code",
   "execution_count": null,
   "metadata": {},
   "outputs": [],
   "source": []
  },
  {
   "cell_type": "markdown",
   "metadata": {},
   "source": [
    "$g$ est la fonction d'expression $g(t)=2t^2-9t+1$."
   ]
  },
  {
   "cell_type": "code",
   "execution_count": null,
   "metadata": {},
   "outputs": [],
   "source": []
  },
  {
   "cell_type": "markdown",
   "metadata": {},
   "source": [
    "$h$ est la fonction d'expression $h(s)=\\frac{5}{4-s}$."
   ]
  },
  {
   "cell_type": "code",
   "execution_count": null,
   "metadata": {},
   "outputs": [],
   "source": []
  },
  {
   "cell_type": "markdown",
   "metadata": {},
   "source": [
    "### Pour les situations suivantes, résoudre le problème à l'aide d'une fonction en Python."
   ]
  },
  {
   "cell_type": "markdown",
   "metadata": {},
   "source": [
    "Rédiger une fonction qui à un nombre associe l'inverse de la somme de son carré augmenté de 1."
   ]
  },
  {
   "cell_type": "code",
   "execution_count": null,
   "metadata": {},
   "outputs": [],
   "source": []
  },
  {
   "cell_type": "markdown",
   "metadata": {},
   "source": [
    "Pour un triangle de côté $a$ ; $b$ et $c$, on définit le demi-périmètre $p$.\n",
    "\n",
    "La formule de Héron donne alors l'aire du triangle : $\\sqrt{p(p-a)(p-b)(p-c)}$.\n",
    "\n",
    "Rédiger une fonction donnant le périmètre et l'aire d'un triangle dont les côtés seront données par l'utilisateur."
   ]
  },
  {
   "cell_type": "code",
   "execution_count": null,
   "metadata": {},
   "outputs": [],
   "source": []
  },
  {
   "cell_type": "markdown",
   "metadata": {},
   "source": [
    "# Boucle bornée"
   ]
  },
  {
   "cell_type": "markdown",
   "metadata": {},
   "source": [
    "## Liste, première approche"
   ]
  },
  {
   "cell_type": "markdown",
   "metadata": {},
   "source": [
    "Une liste en Python est un objet délimité par des crochets et contenant des éléments séparés par des virgules."
   ]
  },
  {
   "cell_type": "code",
   "execution_count": null,
   "metadata": {},
   "outputs": [],
   "source": [
    "liste = [3, 4, 'spam']"
   ]
  },
  {
   "cell_type": "code",
   "execution_count": null,
   "metadata": {},
   "outputs": [],
   "source": [
    "listeb = [4, 3, 'spam']"
   ]
  },
  {
   "cell_type": "code",
   "execution_count": null,
   "metadata": {},
   "outputs": [],
   "source": [
    "liste == listeb "
   ]
  },
  {
   "cell_type": "markdown",
   "metadata": {},
   "source": [
    "Pour une liste, l'ordre des éléments est important."
   ]
  },
  {
   "cell_type": "markdown",
   "metadata": {},
   "source": [
    "Python possède une fonction qui permet de générer des listes particulières :\n",
    "- range(a, b) donne tous les nombres entiers compris entre a et b-1 ;\n",
    "- range(a, b, k) donne les nombres entiers a, a+k, a+2k, ... plus petits que b-1."
   ]
  },
  {
   "cell_type": "code",
   "execution_count": null,
   "metadata": {},
   "outputs": [],
   "source": [
    "range(1, 10) # crée la liste 0, 1, ..., 9"
   ]
  },
  {
   "cell_type": "markdown",
   "metadata": {},
   "source": [
    "## Boucle for ... in"
   ]
  },
  {
   "cell_type": "markdown",
   "metadata": {},
   "source": [
    "Une liste peut être énumérée, c'est-à-dire : on crée une variable qui va prendre successivement toutes les valeurs de la liste \"dans l'ordre\"."
   ]
  },
  {
   "cell_type": "code",
   "execution_count": null,
   "metadata": {},
   "outputs": [],
   "source": [
    "for k in range(1, 10):\n",
    "    print(k)"
   ]
  },
  {
   "cell_type": "markdown",
   "metadata": {},
   "source": [
    "Comme pour les fonctions, l'espace dans une boucle doit être en bloc d'indentation."
   ]
  },
  {
   "cell_type": "code",
   "execution_count": null,
   "metadata": {},
   "outputs": [],
   "source": [
    "for r in range(-6, 6):\n",
    "    print(3*r)"
   ]
  },
  {
   "cell_type": "markdown",
   "metadata": {},
   "source": [
    "On peut ainsi définir la suite de premier $\\begin{cases} u_0 = 7 \\\\ u_{n+1} = 0,8u_n +2 \\end{cases}$."
   ]
  },
  {
   "cell_type": "code",
   "execution_count": null,
   "metadata": {},
   "outputs": [],
   "source": [
    "def u(n):\n",
    "    u = 7 #premier terme\n",
    "    for k in range(n):\n",
    "        u = 0.8*u + 2 #la relation de récurrence dans une boucle for\n",
    "    return u\n",
    "\n",
    "u(1)\n",
    "u(7)"
   ]
  },
  {
   "cell_type": "markdown",
   "metadata": {},
   "source": [
    "Pour la suite définie par le premier terme $v_0=4$ et la relation de récurrence $v_{n+1} = v_n + \\frac{1}{n+4} + 2$, on écrit d'abord la relation de récurrence pour $v_n$ : $v_n = v_{n-1} + \\frac{1}{(n-1)+4} +2$ soit $v_n=v_{n-1}+\\frac{1}{n+3}+2$ : "
   ]
  },
  {
   "cell_type": "code",
   "execution_count": null,
   "metadata": {},
   "outputs": [],
   "source": [
    "def v(n):\n",
    "    v = 4\n",
    "    for k in range(0, n):\n",
    "        v = v + 1/(k+3) + 2 \n",
    "    return v\n",
    "\n",
    "v(0), v(1), v(5)"
   ]
  },
  {
   "cell_type": "markdown",
   "metadata": {},
   "source": [
    "## Exercices "
   ]
  },
  {
   "cell_type": "markdown",
   "metadata": {},
   "source": [
    "Définir par une fonction en Python la suite de premier $a_0 = 10$ et de relation de récurrence $a_{n+1} = 5-2a_n$."
   ]
  },
  {
   "cell_type": "code",
   "execution_count": null,
   "metadata": {},
   "outputs": [],
   "source": []
  },
  {
   "cell_type": "markdown",
   "metadata": {},
   "source": [
    "Définir par une fonction en Python la suite de premier $b_0 = 0$ et de relation de récurrence $b_{n+1} = {b_n}^2-b_n-1$."
   ]
  },
  {
   "cell_type": "code",
   "execution_count": null,
   "metadata": {},
   "outputs": [],
   "source": []
  },
  {
   "cell_type": "markdown",
   "metadata": {},
   "source": [
    "Définir par une fonction en Python la suite de premier $p_0 = 2$ et de relation de récurrence $p_{n+1} = \\frac{1}{2}\\left(p_n+\\frac{2}{p_n}\\right)$."
   ]
  },
  {
   "cell_type": "code",
   "execution_count": null,
   "metadata": {},
   "outputs": [],
   "source": []
  },
  {
   "cell_type": "markdown",
   "metadata": {},
   "source": [
    "# Instruction conditionnelle"
   ]
  },
  {
   "cell_type": "markdown",
   "metadata": {},
   "source": [
    "## Tests & booléens"
   ]
  },
  {
   "cell_type": "markdown",
   "metadata": {},
   "source": [
    "La console sait réaliser des opérations logiques, i.e. des opérations dont le résultat est un booléen (Vrai / Faux)."
   ]
  },
  {
   "cell_type": "code",
   "execution_count": null,
   "metadata": {},
   "outputs": [],
   "source": [
    "2 == 1 + 1"
   ]
  },
  {
   "cell_type": "code",
   "execution_count": null,
   "metadata": {},
   "outputs": [],
   "source": [
    "4 > 7"
   ]
  },
  {
   "cell_type": "code",
   "execution_count": null,
   "metadata": {},
   "outputs": [],
   "source": [
    "2 <= 2"
   ]
  },
  {
   "cell_type": "code",
   "execution_count": null,
   "metadata": {},
   "outputs": [],
   "source": [
    "2 <= 9"
   ]
  },
  {
   "cell_type": "code",
   "execution_count": null,
   "metadata": {},
   "outputs": [],
   "source": [
    "7 != 3 + 4"
   ]
  },
  {
   "cell_type": "code",
   "execution_count": null,
   "metadata": {},
   "outputs": [],
   "source": [
    "2 == 2.0"
   ]
  },
  {
   "cell_type": "code",
   "execution_count": null,
   "metadata": {},
   "outputs": [],
   "source": [
    "2 is 2.0"
   ]
  },
  {
   "cell_type": "code",
   "execution_count": null,
   "metadata": {},
   "outputs": [],
   "source": [
    "2 in [3, 'ham', 'egg']"
   ]
  },
  {
   "cell_type": "markdown",
   "metadata": {},
   "source": [
    "## Mot clef if"
   ]
  },
  {
   "cell_type": "code",
   "execution_count": null,
   "metadata": {},
   "outputs": [],
   "source": [
    "x = 2\n",
    "if x <= 10:\n",
    "    print('foo')"
   ]
  },
  {
   "cell_type": "code",
   "execution_count": null,
   "metadata": {},
   "outputs": [],
   "source": [
    "y = 28\n",
    "if y > 28:\n",
    "    print('bar')"
   ]
  },
  {
   "cell_type": "markdown",
   "metadata": {},
   "source": [
    "Dans un bloc d'instruction conditionnelle if, le bloc d'indentation est effectué si et seulement le test suivant le mot clef if renvoie True."
   ]
  },
  {
   "cell_type": "markdown",
   "metadata": {},
   "source": [
    "## Instructions elif, else"
   ]
  },
  {
   "cell_type": "markdown",
   "metadata": {},
   "source": [
    "Les mots clef elif et else servent à créer des alternatives à lexécution d'un bloc conditionnel."
   ]
  },
  {
   "cell_type": "code",
   "execution_count": null,
   "metadata": {},
   "outputs": [],
   "source": [
    "x = -5\n",
    "if x <= 0:\n",
    "    print('seul le bloc if a été executé')\n",
    "elif x < 10:\n",
    "    print(\"le premier bloc n'a pas été exécuté mais le second si\") \n",
    "    # au passage : de l'utilitilté de pouvoir générer une chaîne de caractères avec \"...\" quand ' est utilisé !\n",
    "else:\n",
    "    print(\"les deux premiers blocs n'ont pas été exécutés mais le dernier si\")"
   ]
  },
  {
   "cell_type": "code",
   "execution_count": null,
   "metadata": {},
   "outputs": [],
   "source": [
    "x = 5\n",
    "if x <= 0:\n",
    "    print('seul le bloc if a été executé')\n",
    "elif x < 10:\n",
    "    print(\"le premier bloc n'a pas été exécuté mais le second si\")\n",
    "else:\n",
    "    print(\"les deux premiers blocs n'ont pas été exécutés mais le dernier si\")"
   ]
  },
  {
   "cell_type": "code",
   "execution_count": null,
   "metadata": {},
   "outputs": [],
   "source": [
    "x = 15\n",
    "if x <= 0:\n",
    "    print('seul le bloc if a été executé')\n",
    "elif x < 10:\n",
    "    print(\"le premier bloc n'a pas été exécuté mais le second si\")\n",
    "else:\n",
    "    print(\"les deux premiers blocs n'ont pas été exécutés mais le dernier si\")"
   ]
  },
  {
   "cell_type": "markdown",
   "metadata": {},
   "source": [
    "Dans une fonction, on peut n'utiliser que des if."
   ]
  },
  {
   "cell_type": "code",
   "execution_count": null,
   "metadata": {},
   "outputs": [],
   "source": [
    "def foo(bar):\n",
    "    if bar < -5:\n",
    "        return 'baz'\n",
    "    if bar < 10:\n",
    "        return 'qux'\n",
    "    if bar < 30:\n",
    "        return 'quux'\n",
    "    return 'corge'\n",
    "\n",
    "foo(-10), foo(0), foo(20), foo(100)"
   ]
  },
  {
   "cell_type": "markdown",
   "metadata": {},
   "source": [
    "## Exercice"
   ]
  },
  {
   "cell_type": "markdown",
   "metadata": {},
   "source": [
    "Coder une fonction en Python qui prenne en argument un flottant $x$ et qui renvoie en sortie \n",
    "- $-2x+9$ si $x \\leqslant -4$ ;\n",
    "- $0,5x^2+x+3$ si $-4<x<3$ ;\n",
    "- $\\frac{1}{x}+x$ si $x\\geqslant 3$."
   ]
  },
  {
   "cell_type": "code",
   "execution_count": null,
   "metadata": {},
   "outputs": [],
   "source": []
  },
  {
   "cell_type": "markdown",
   "metadata": {},
   "source": [
    "# Boucle non bornée"
   ]
  },
  {
   "cell_type": "markdown",
   "metadata": {},
   "source": [
    "Dans une boucle non bornée while, le bloc d'indentation est effectué tant que le test qui suit le mot clef while renvoie True."
   ]
  },
  {
   "cell_type": "code",
   "execution_count": null,
   "metadata": {},
   "outputs": [],
   "source": [
    "import math\n",
    "n = 5000\n",
    "while n >= 1.01:\n",
    "    n = math.sqrt(n)\n",
    "    print(n)\n",
    "n"
   ]
  },
  {
   "cell_type": "markdown",
   "metadata": {},
   "source": [
    "Attention, si la condition ne passe jamais à False, la boucle ne s'arrête pas !"
   ]
  },
  {
   "cell_type": "code",
   "execution_count": null,
   "metadata": {},
   "outputs": [],
   "source": [
    "n = 0\n",
    "while (1/2)**n > 0.001: #tant que (1/2)^n est plus grand que 0,001...\n",
    "    n = n + 1 #... on augmente n de 1 ...\n",
    "print(n) #n est alors le plus petit entier tel que (1/2)^n <= 0,001"
   ]
  },
  {
   "cell_type": "markdown",
   "metadata": {},
   "source": [
    "## Exercices"
   ]
  },
  {
   "cell_type": "markdown",
   "metadata": {},
   "source": [
    "Interpréter la valeur de $n$ après exécution du script."
   ]
  },
  {
   "cell_type": "code",
   "execution_count": null,
   "metadata": {},
   "outputs": [],
   "source": [
    "n = 0\n",
    "while 10**(-n) != 0:\n",
    "    n = n + 1\n",
    "print(n)"
   ]
  },
  {
   "cell_type": "markdown",
   "metadata": {},
   "source": [
    "Ecrire un code pour déterminer le plus petit entier $n$ tel que $1-0,95^n \\geqslant 0,99$."
   ]
  },
  {
   "cell_type": "code",
   "execution_count": null,
   "metadata": {},
   "outputs": [],
   "source": []
  },
  {
   "cell_type": "markdown",
   "metadata": {},
   "source": [
    "# Listes"
   ]
  },
  {
   "cell_type": "markdown",
   "metadata": {},
   "source": [
    "## Termes d'une liste"
   ]
  },
  {
   "cell_type": "markdown",
   "metadata": {},
   "source": [
    "Pour une liste en Python, \n",
    "- len(liste) renvoie la longueur de la liste, i.e. le nombre d'éléments de la liste ;\n",
    "- la liste est ordonnée et les éléments sont obtenus grâce à liste[k] où k est un nombre entier compris entre 0 et len(liste) - 1."
   ]
  },
  {
   "cell_type": "code",
   "execution_count": null,
   "metadata": {},
   "outputs": [],
   "source": [
    "li = ['foo', 'bar', 'baz', 7]\n",
    "li[0], li[1], li[2], li[3] #ici li[4] n'existe pas"
   ]
  },
  {
   "cell_type": "code",
   "execution_count": null,
   "metadata": {},
   "outputs": [],
   "source": [
    "len(li)"
   ]
  },
  {
   "cell_type": "markdown",
   "metadata": {},
   "source": [
    "## Ajout/retrait d'élément"
   ]
  },
  {
   "cell_type": "code",
   "execution_count": null,
   "metadata": {},
   "outputs": [],
   "source": [
    "li.append(137)\n",
    "print(li)"
   ]
  },
  {
   "cell_type": "code",
   "execution_count": null,
   "metadata": {},
   "outputs": [],
   "source": [
    "li.remove(7)\n",
    "print(li)"
   ]
  },
  {
   "cell_type": "code",
   "execution_count": null,
   "metadata": {},
   "outputs": [],
   "source": [
    "li.pop(0) #renvoie le terme de rang 0 et le fait disparaître"
   ]
  },
  {
   "cell_type": "code",
   "execution_count": null,
   "metadata": {},
   "outputs": [],
   "source": [
    "li"
   ]
  },
  {
   "cell_type": "code",
   "execution_count": null,
   "metadata": {},
   "outputs": [],
   "source": [
    "def liste_u(n):\n",
    "    y = [] #on créé une liste vide...\n",
    "    u = 2 #et u est la suite de premier terme 2...\n",
    "    for k in range(n):\n",
    "        u = 4*u-2 #u a pour relation de récurrence u_{n+1} = 4u_n - 2\n",
    "        y.append(u) #on ajoute le terme à la liste\n",
    "    return y #la fonction donne la liste des n premiers termes de cette suite\n",
    "\n",
    "print(liste_u(6))\n",
    "print(liste_u(20))"
   ]
  },
  {
   "cell_type": "markdown",
   "metadata": {},
   "source": [
    "## Listes particulières"
   ]
  },
  {
   "cell_type": "code",
   "execution_count": null,
   "metadata": {},
   "outputs": [],
   "source": [
    "[] #liste vide"
   ]
  },
  {
   "cell_type": "code",
   "execution_count": null,
   "metadata": {},
   "outputs": [],
   "source": [
    "zz = [0]*10\n",
    "print(zz)"
   ]
  },
  {
   "cell_type": "code",
   "execution_count": null,
   "metadata": {},
   "outputs": [],
   "source": [
    "uu = [1]*12\n",
    "print(uu)"
   ]
  },
  {
   "cell_type": "markdown",
   "metadata": {},
   "source": [
    "## Liste en compréhension"
   ]
  },
  {
   "cell_type": "code",
   "execution_count": null,
   "metadata": {},
   "outputs": [],
   "source": [
    "ls = [k**2 for k in range(30)] #on créé la liste des k**2 pour k dans l'itérable range(30)\n",
    "print(ls)"
   ]
  },
  {
   "cell_type": "code",
   "execution_count": null,
   "metadata": {},
   "outputs": [],
   "source": [
    "lss = [k**2 +1 for k in range(10)]\n",
    "print(lss)"
   ]
  },
  {
   "cell_type": "markdown",
   "metadata": {},
   "source": [
    "## Objet intégré sum"
   ]
  },
  {
   "cell_type": "code",
   "execution_count": null,
   "metadata": {},
   "outputs": [],
   "source": [
    "sum(ls) #renvoie la somme de la liste ls"
   ]
  },
  {
   "cell_type": "code",
   "execution_count": null,
   "metadata": {},
   "outputs": [],
   "source": [
    "sum(k for k in range(101))"
   ]
  },
  {
   "cell_type": "markdown",
   "metadata": {},
   "source": [
    "## Exercices"
   ]
  },
  {
   "cell_type": "markdown",
   "metadata": {},
   "source": [
    "Coder une fonction en Python qui renvoie la liste des $n$ premiers termes de la suite définie par $\\begin{cases} v_0=5 \\\\v_{n+1} = 7-v_n\\end{cases}$."
   ]
  },
  {
   "cell_type": "code",
   "execution_count": null,
   "metadata": {},
   "outputs": [],
   "source": []
  },
  {
   "cell_type": "markdown",
   "metadata": {},
   "source": [
    "Coder une fonction en Python qui calcule les termes de la suite $(w_n)$ définie $\\begin{cases} w_0 = 10 \\\\ w_{n+1} = \\sqrt{3w_n+11} \\end{cases}$ puis créer une liste en compréhension des vingt premiers termes de cette suite."
   ]
  },
  {
   "cell_type": "code",
   "execution_count": null,
   "metadata": {},
   "outputs": [],
   "source": []
  },
  {
   "cell_type": "markdown",
   "metadata": {},
   "source": [
    "Coder une fonction en Python qui calcule les termes de la suite définie par $\\begin{cases} x_0=5 \\\\x_{n+1} = 0,2x_n+7\\end{cases}$ puis coder une fonction qui calcule les termes de la suite $(s_n)$ définie par $s_n=x_0+x_1+\\cdots+x_n$."
   ]
  },
  {
   "cell_type": "code",
   "execution_count": null,
   "metadata": {},
   "outputs": [],
   "source": []
  }
 ],
 "metadata": {
  "kernelspec": {
   "display_name": "Python 3",
   "language": "python",
   "name": "python3"
  },
  "language_info": {
   "codemirror_mode": {
    "name": "ipython",
    "version": 3
   },
   "file_extension": ".py",
   "mimetype": "text/x-python",
   "name": "python",
   "nbconvert_exporter": "python",
   "pygments_lexer": "ipython3",
   "version": "3.7.7"
  }
 },
 "nbformat": 4,
 "nbformat_minor": 2
}
