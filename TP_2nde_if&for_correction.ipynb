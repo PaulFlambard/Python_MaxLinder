{
 "cells": [
  {
   "cell_type": "markdown",
   "metadata": {},
   "source": [
    "# Instruction conditionnelle"
   ]
  },
  {
   "cell_type": "markdown",
   "metadata": {},
   "source": [
    "## Booléens & tests"
   ]
  },
  {
   "cell_type": "code",
   "execution_count": 2,
   "metadata": {},
   "outputs": [
    {
     "data": {
      "text/plain": [
       "False"
      ]
     },
     "execution_count": 2,
     "metadata": {},
     "output_type": "execute_result"
    }
   ],
   "source": [
    "2 == 5"
   ]
  },
  {
   "cell_type": "code",
   "execution_count": 3,
   "metadata": {},
   "outputs": [
    {
     "data": {
      "text/plain": [
       "False"
      ]
     },
     "execution_count": 3,
     "metadata": {},
     "output_type": "execute_result"
    }
   ],
   "source": [
    "14 < 13"
   ]
  },
  {
   "cell_type": "code",
   "execution_count": 4,
   "metadata": {},
   "outputs": [
    {
     "data": {
      "text/plain": [
       "True"
      ]
     },
     "execution_count": 4,
     "metadata": {},
     "output_type": "execute_result"
    }
   ],
   "source": [
    "12 <= 6 + 6"
   ]
  },
  {
   "cell_type": "markdown",
   "metadata": {},
   "source": [
    "## Tests composés"
   ]
  },
  {
   "cell_type": "code",
   "execution_count": 7,
   "metadata": {},
   "outputs": [
    {
     "data": {
      "text/plain": [
       "True"
      ]
     },
     "execution_count": 7,
     "metadata": {},
     "output_type": "execute_result"
    }
   ],
   "source": [
    "9 == 3**2 and 12 - 3 == 9 #renvoie True si les deux tests renvoient True"
   ]
  },
  {
   "cell_type": "code",
   "execution_count": 6,
   "metadata": {},
   "outputs": [
    {
     "data": {
      "text/plain": [
       "True"
      ]
     },
     "execution_count": 6,
     "metadata": {},
     "output_type": "execute_result"
    }
   ],
   "source": [
    "9 == 3**2 or 12 - 3 != 9"
   ]
  },
  {
   "cell_type": "markdown",
   "metadata": {},
   "source": [
    "## Mots clefs if, elif, else"
   ]
  },
  {
   "cell_type": "code",
   "execution_count": 8,
   "metadata": {},
   "outputs": [
    {
     "name": "stdout",
     "output_type": "stream",
     "text": [
      "blabla\n"
     ]
    }
   ],
   "source": [
    "if True:\n",
    "    print('blabla')"
   ]
  },
  {
   "cell_type": "code",
   "execution_count": 9,
   "metadata": {},
   "outputs": [],
   "source": [
    "if 2 == 4:\n",
    "    print('problème') #ne sera pas affiché car le test est faux#"
   ]
  },
  {
   "cell_type": "code",
   "execution_count": 11,
   "metadata": {},
   "outputs": [],
   "source": [
    "if 4 > 5:\n",
    "    print('zêta')"
   ]
  },
  {
   "cell_type": "code",
   "execution_count": 15,
   "metadata": {},
   "outputs": [
    {
     "name": "stdout",
     "output_type": "stream",
     "text": [
      "25\n",
      "k est strictement plus grand que 10\n"
     ]
    }
   ],
   "source": [
    "k = int(input()) #permet à l'utilisateur de choisir la valeur de k#\n",
    "if k <= 0:\n",
    "    print('k est négatif ')\n",
    "elif k <= 10:\n",
    "    print('k est plus petit que 10')\n",
    "else:\n",
    "    print('k est strictement plus grand que 10')"
   ]
  },
  {
   "cell_type": "code",
   "execution_count": 14,
   "metadata": {},
   "outputs": [],
   "source": [
    "def styl_vt(n): #n nb de stylos#\n",
    "    if n < 50:\n",
    "        return 0.7*n\n",
    "    elif n < 250: #dim de 10 % -> *0.9#\n",
    "        return 0.9 * (0.7*n)\n",
    "    else: #dim de 15 % -> *0.85#\n",
    "        return 0.85 * (0.7*n)"
   ]
  },
  {
   "cell_type": "code",
   "execution_count": 16,
   "metadata": {},
   "outputs": [],
   "source": [
    "def styl_vt(n): #n nb de stylos#\n",
    "    if n < 50:\n",
    "        return 0.7*n\n",
    "    if n < 250: #on met un if à la place du elif#\n",
    "        return 0.9 * (0.7*n)\n",
    "    return 0.85 * (0.7*n)\n",
    "    #pas de else & on aligne ce dernier return avec les if#"
   ]
  },
  {
   "cell_type": "code",
   "execution_count": 17,
   "metadata": {},
   "outputs": [
    {
     "data": {
      "text/plain": [
       "7.0"
      ]
     },
     "execution_count": 17,
     "metadata": {},
     "output_type": "execute_result"
    }
   ],
   "source": [
    "styl_vt(10)"
   ]
  },
  {
   "cell_type": "code",
   "execution_count": 18,
   "metadata": {},
   "outputs": [
    {
     "data": {
      "text/plain": [
       "63.0"
      ]
     },
     "execution_count": 18,
     "metadata": {},
     "output_type": "execute_result"
    }
   ],
   "source": [
    "styl_vt(100)"
   ]
  },
  {
   "cell_type": "code",
   "execution_count": 19,
   "metadata": {},
   "outputs": [
    {
     "data": {
      "text/plain": [
       "297.5"
      ]
     },
     "execution_count": 19,
     "metadata": {},
     "output_type": "execute_result"
    }
   ],
   "source": [
    "styl_vt(500)"
   ]
  },
  {
   "cell_type": "code",
   "execution_count": null,
   "metadata": {},
   "outputs": [],
   "source": [
    "def prix_lot(n): #n nb d'objets'#\n",
    "    if n < 20:\n",
    "        return 35*n\n",
    "    if n < 50: \n",
    "        return 0.93 * (35*n)\n",
    "    if n < 120:\n",
    "        return 0.9* (35*n)\n",
    "    return 0.85 * (35*n)"
   ]
  },
  {
   "cell_type": "code",
   "execution_count": null,
   "metadata": {},
   "outputs": [],
   "source": []
  },
  {
   "cell_type": "markdown",
   "metadata": {},
   "source": [
    "# Boucle bornée"
   ]
  },
  {
   "cell_type": "markdown",
   "metadata": {},
   "source": [
    "## Itérable"
   ]
  },
  {
   "cell_type": "code",
   "execution_count": 20,
   "metadata": {},
   "outputs": [],
   "source": [
    "liste = [2, 4, 7.8 , 'plop']"
   ]
  },
  {
   "cell_type": "code",
   "execution_count": 3,
   "metadata": {},
   "outputs": [
    {
     "name": "stdout",
     "output_type": "stream",
     "text": [
      "[0, 1, 2, 3, 4, 5]\n"
     ]
    }
   ],
   "source": [
    "print(list(range(6))) #la liste commence à 0 et finit à 6-1=5"
   ]
  },
  {
   "cell_type": "code",
   "execution_count": 21,
   "metadata": {},
   "outputs": [
    {
     "name": "stdout",
     "output_type": "stream",
     "text": [
      "[2, 3, 4]\n"
     ]
    }
   ],
   "source": [
    "print(list(range(2, 5)))"
   ]
  },
  {
   "cell_type": "code",
   "execution_count": 24,
   "metadata": {},
   "outputs": [
    {
     "name": "stdout",
     "output_type": "stream",
     "text": [
      "[0, 2, 4, 6, 8]\n"
     ]
    }
   ],
   "source": [
    "print(list(range(0, 10 , 2)))"
   ]
  },
  {
   "cell_type": "markdown",
   "metadata": {},
   "source": [
    "## Mot clef for"
   ]
  },
  {
   "cell_type": "code",
   "execution_count": 26,
   "metadata": {},
   "outputs": [
    {
     "name": "stdout",
     "output_type": "stream",
     "text": [
      "1\n",
      "2\n",
      "3\n",
      "4\n",
      "5\n",
      "6\n",
      "7\n",
      "8\n",
      "9\n"
     ]
    }
   ],
   "source": [
    "for k in range(1, 10):\n",
    "    print(k)"
   ]
  },
  {
   "cell_type": "code",
   "execution_count": 30,
   "metadata": {},
   "outputs": [
    {
     "name": "stdout",
     "output_type": "stream",
     "text": [
      "3\n",
      "9\n",
      "27\n",
      "81\n",
      "243\n"
     ]
    }
   ],
   "source": [
    "cpt = 1 #cpt pour compteur#\n",
    "for k in range(5):\n",
    "    cpt = 3*cpt\n",
    "    print(cpt)"
   ]
  },
  {
   "cell_type": "code",
   "execution_count": 28,
   "metadata": {},
   "outputs": [
    {
     "name": "stdout",
     "output_type": "stream",
     "text": [
      "613.81 628.44 660.33\n"
     ]
    }
   ],
   "source": [
    "def livret(n):\n",
    "    s = 600 #somme à l'ouverture#\n",
    "    for t in range(n): #sert à décompter les années#\n",
    "        s = 1.0115*s - 4.2\n",
    "    return round(s, 2) #arrondit au centime s#\n",
    "\n",
    "print(livret(5), livret(10), livret(20))"
   ]
  },
  {
   "cell_type": "code",
   "execution_count": 31,
   "metadata": {},
   "outputs": [],
   "source": [
    "def Alice_vs_Bob(n):\n",
    "    d_A = 3000\n",
    "    d_B = 3000\n",
    "    for ent in range(n):\n",
    "        d_A = d_A + 600\n",
    "        d_B = 1.06*d_B\n",
    "    return d_A, d_B"
   ]
  },
  {
   "cell_type": "code",
   "execution_count": 32,
   "metadata": {},
   "outputs": [
    {
     "data": {
      "text/plain": [
       "(6000, 4014.6767328000005)"
      ]
     },
     "execution_count": 32,
     "metadata": {},
     "output_type": "execute_result"
    }
   ],
   "source": [
    "Alice_vs_Bob(5)"
   ]
  },
  {
   "cell_type": "code",
   "execution_count": 34,
   "metadata": {},
   "outputs": [
    {
     "name": "stdout",
     "output_type": "stream",
     "text": [
      "0 (3000, 3000)\n",
      "1 (3600, 3180.0)\n",
      "2 (4200, 3370.8)\n",
      "3 (4800, 3573.0480000000002)\n",
      "4 (5400, 3787.4308800000003)\n",
      "5 (6000, 4014.6767328000005)\n",
      "6 (6600, 4255.557336768001)\n",
      "7 (7200, 4510.890776974081)\n",
      "8 (7800, 4781.544223592526)\n",
      "9 (8400, 5068.436877008077)\n",
      "10 (9000, 5372.5430896285625)\n",
      "11 (9600, 5694.895675006276)\n",
      "12 (10200, 6036.5894155066535)\n",
      "13 (10800, 6398.784780437053)\n",
      "14 (11400, 6782.711867263277)\n",
      "15 (12000, 7189.674579299074)\n",
      "16 (12600, 7621.055054057019)\n",
      "17 (13200, 8078.318357300441)\n",
      "18 (13800, 8563.017458738468)\n",
      "19 (14400, 9076.798506262776)\n",
      "20 (15000, 9621.406416638543)\n",
      "21 (15600, 10198.690801636856)\n",
      "22 (16200, 10810.612249735068)\n",
      "23 (16800, 11459.248984719172)\n",
      "24 (17400, 12146.803923802323)\n",
      "25 (18000, 12875.612159230463)\n",
      "26 (18600, 13648.148888784292)\n",
      "27 (19200, 14467.03782211135)\n",
      "28 (19800, 15335.060091438032)\n",
      "29 (20400, 16255.163696924315)\n",
      "30 (21000, 17230.473518739775)\n",
      "31 (21600, 18264.301929864163)\n",
      "32 (22200, 19360.160045656015)\n",
      "33 (22800, 20521.769648395377)\n",
      "34 (23400, 21753.0758272991)\n",
      "35 (24000, 23058.260376937047)\n",
      "36 (24600, 24441.755999553272)\n",
      "37 (25200, 25908.26135952647)\n",
      "38 (25800, 27462.75704109806)\n",
      "39 (26400, 29110.522463563942)\n"
     ]
    }
   ],
   "source": [
    "for n in range(40):\n",
    "    print(n, Alice_vs_Bob(n))"
   ]
  },
  {
   "cell_type": "code",
   "execution_count": null,
   "metadata": {},
   "outputs": [],
   "source": []
  }
 ],
 "metadata": {
  "kernelspec": {
   "display_name": "Python 3",
   "language": "python",
   "name": "python3"
  },
  "language_info": {
   "codemirror_mode": {
    "name": "ipython",
    "version": 3
   },
   "file_extension": ".py",
   "mimetype": "text/x-python",
   "name": "python",
   "nbconvert_exporter": "python",
   "pygments_lexer": "ipython3",
   "version": "3.7.6"
  }
 },
 "nbformat": 4,
 "nbformat_minor": 2
}
