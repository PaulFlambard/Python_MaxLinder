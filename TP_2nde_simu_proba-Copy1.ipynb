{
 "cells": [
  {
   "cell_type": "markdown",
   "metadata": {},
   "source": [
    "# Simulation"
   ]
  },
  {
   "cell_type": "markdown",
   "metadata": {},
   "source": [
    "## Nombres pseudo-aléatoires"
   ]
  },
  {
   "cell_type": "raw",
   "metadata": {},
   "source": [
    "On observe ici l'effet des deux fonctions générant des nombres pseudo-aléatoires à connaître :\n",
    "- randint(foo, bar) qui génère un nombre entier pseudo-aléatoire compris entre les entiers foo et bar.\n",
    "- random() qui génère un nombre décimal pseudo aléatoire dans l'intervalle [0 ; 1[."
   ]
  },
  {
   "cell_type": "code",
   "execution_count": 2,
   "metadata": {},
   "outputs": [
    {
     "name": "stdout",
     "output_type": "stream",
     "text": [
      "1\n",
      "0.6887798315758553\n"
     ]
    }
   ],
   "source": [
    "import random\n",
    "print(random.randint(1, 8)) #renvoie un nb entier \"aléatoire\" entre 1 et 8#\n",
    "print(2*random.random()) #renvoie un nb décimal \"aléatoire\" entre 0 et 2#"
   ]
  },
  {
   "cell_type": "code",
   "execution_count": 7,
   "metadata": {},
   "outputs": [
    {
     "name": "stdout",
     "output_type": "stream",
     "text": [
      "8\n",
      "1\n",
      "6\n",
      "1\n",
      "1\n",
      "9\n",
      "11\n",
      "1\n",
      "1\n",
      "4\n",
      "1\n",
      "1\n",
      "4\n",
      "6\n",
      "4\n"
     ]
    }
   ],
   "source": [
    "for test in range(15):\n",
    "    print(random.randint(1, 12))"
   ]
  },
  {
   "cell_type": "code",
   "execution_count": 6,
   "metadata": {},
   "outputs": [
    {
     "name": "stdout",
     "output_type": "stream",
     "text": [
      "1.7662537898528878\n",
      "0.9157694456064329\n",
      "1.6912640874021696\n",
      "1.8897501259171323\n",
      "1.6327388229440647\n"
     ]
    }
   ],
   "source": [
    "for test in range(5):\n",
    "    print(2*random.random())"
   ]
  },
  {
   "cell_type": "markdown",
   "metadata": {},
   "source": [
    "## Exemples de simulation"
   ]
  },
  {
   "cell_type": "raw",
   "metadata": {},
   "source": [
    "La fonction en Python freq_4 va simuler 1000 lancers de dé (avec random.randint(1, 6)) et tester si le résultat vaut 4 (avec == 4). Elle compte le nombre de \"4\" obtenus avec la varaible cpt et retourne cpt/1000 soit la fréquence de \"4\"."
   ]
  },
  {
   "cell_type": "code",
   "execution_count": 12,
   "metadata": {},
   "outputs": [
    {
     "name": "stdout",
     "output_type": "stream",
     "text": [
      "0.1704\n",
      "0.1637\n",
      "0.1645\n",
      "0.1588\n",
      "0.1735\n"
     ]
    }
   ],
   "source": [
    "def freq_4():\n",
    "    cpt = 0 #on initie une variable à 0#\n",
    "    for k in range(10000):\n",
    "        if random.randint(1, 6) == 4: #~lancer du dé, on teste si on a 4#\n",
    "            cpt = cpt + 1 #si 4, le compteur +1#\n",
    "    return cpt/10000 #fréq : on divise le nb de 4 par le nb de lancers#\n",
    "\n",
    "for test in range(5):\n",
    "    print(freq_4()) #fait 5*1000 lancers de dé et cpt les 4#"
   ]
  },
  {
   "cell_type": "code",
   "execution_count": null,
   "metadata": {},
   "outputs": [],
   "source": []
  },
  {
   "cell_type": "markdown",
   "metadata": {},
   "source": [
    "## Représentation de fréquences, convergence vers la probabilité"
   ]
  },
  {
   "cell_type": "markdown",
   "metadata": {},
   "source": [
    "Il n'est pas nécessaire de maîtriser le code ci-dessous.\n",
    "On reprend la fonction freq_4 et on représente la fonction qui au nombre de lancers associe la fréquence de \"4\" obtenus jusqu'à ce lancer."
   ]
  },
  {
   "cell_type": "code",
   "execution_count": 15,
   "metadata": {},
   "outputs": [
    {
     "data": {
      "image/png": "[encoded data removed]",
      "text/plain": [
       "<Figure size 432x288 with 1 Axes>"
      ]
     },
     "metadata": {
      "needs_background": "light"
     },
     "output_type": "display_data"
    }
   ],
   "source": [
    "import random\n",
    "import matplotlib.pyplot as plt #importe les fonctions de graphique de Python#\n",
    "\n",
    "def repr_freq_4(N=1000):\n",
    "    cpt, n = 0, 0\n",
    "    FCG = [] #va stocker les freq de 4#\n",
    "    for k in range(N):\n",
    "        if random.randint(1, 6) == 4:\n",
    "            cpt = cpt + 1\n",
    "        n = n + 1 #compte le numéro du lancer#\n",
    "        FCG.append(cpt/n)\n",
    "    aX = list(range(1, N+1)) #axe des abs#\n",
    "    plt.plot(aX, FCG, label='Courbe de fréquences cumulées')\n",
    "    plt.plot(aX, [1/6]*N, label='probabilité théorique : 1/6')\n",
    "    plt.xlabel('Nombre de lancers')\n",
    "    plt.ylabel('Fréquence cumulée en fonction du nombre de lancers')\n",
    "    plt.title('Évolution de la fréquence de \"4\" en fonction du nombre de lancers de dé')    \n",
    "    plt.grid()\n",
    "    plt.show()\n",
    "    return None\n",
    "\n",
    "repr_freq_4()"
   ]
  },
  {
   "cell_type": "markdown",
   "metadata": {},
   "source": [
    "## Correction des exercices"
   ]
  },
  {
   "cell_type": "markdown",
   "metadata": {},
   "source": [
    "### Exercice 55"
   ]
  },
  {
   "cell_type": "markdown",
   "metadata": {},
   "source": [
    "a. La probabilité d'obtenir 1 ou 2 vaut 2/6 = 1/3."
   ]
  },
  {
   "cell_type": "code",
   "execution_count": null,
   "metadata": {},
   "outputs": [],
   "source": [
    "import random \n",
    "def echant():\n",
    "    succes = 0\n",
    "    for simu in range(150): #150 lancers : c'est le nombre dans range\n",
    "        if random.randint(1,6) <= 2:\n",
    "            succes = succes + 1\n",
    "    return succes/150 #fréquence de succès"
   ]
  },
  {
   "cell_type": "markdown",
   "metadata": {},
   "source": [
    "### Exercice 56"
   ]
  },
  {
   "cell_type": "code",
   "execution_count": 20,
   "metadata": {},
   "outputs": [
    {
     "name": "stdout",
     "output_type": "stream",
     "text": [
      "0.51\n"
     ]
    }
   ],
   "source": [
    "import random \n",
    "\n",
    "succes = 0\n",
    "for simu in range(100): \n",
    "    if random.randint(0,1) == 0:\n",
    "        succes = succes + 1\n",
    "print(succes/100) "
   ]
  },
  {
   "cell_type": "markdown",
   "metadata": {},
   "source": [
    "La variable \"succes\" permet de compter le nombre de fois où après tirage équiprobable entre 0 et 1 (random.randint(0,1)), le résultat a été 0 (== 0).\n",
    "succes/100 représente donc la fréquence de succès de cette expérience aléatoire."
   ]
  },
  {
   "cell_type": "markdown",
   "metadata": {},
   "source": [
    "a. Le programme fait bien 100 fois une expérience aléatoire ; si on considère que \"pile\" est représenté par 0 et \"face\" est représenté par 1, random.randint(0,1) correspond à un tirage équiprobable entre pile et face, et le programme compte bien le nombre de \"pile\" (0).\n",
    "\n",
    "b. Le programme fait bien 100 fois une expérience aléatoire ; 5/(5+15)= 0,25 est la  probabilité d'obtenir une boule rouge ; or la simulation random.randint(0,1) == 0 réussit avec la probabilité 0,5. Donc le programme n'est pas adapté."
   ]
  },
  {
   "cell_type": "code",
   "execution_count": null,
   "metadata": {},
   "outputs": [],
   "source": [
    "import random \n",
    "\n",
    "succes = 0\n",
    "for simu in range(100): \n",
    "    if random.randint(0,3) == 0:\n",
    "        succes = succes + 1\n",
    "print(succes/100) #programme adpaté pour le 55b "
   ]
  },
  {
   "cell_type": "markdown",
   "metadata": {},
   "source": [
    "c. Le programme ne renvoie qu'une seule fréquence (celle après 100 lancers) alors qu'il aurait fallu 10 fréquences pour chaque série de 10 lancers."
   ]
  },
  {
   "cell_type": "code",
   "execution_count": 24,
   "metadata": {},
   "outputs": [
    {
     "name": "stdout",
     "output_type": "stream",
     "text": [
      "0.1\n",
      "0.0\n",
      "0.0\n",
      "0.1\n",
      "0.0\n",
      "0.1\n",
      "0.1\n",
      "0.0\n",
      "0.1\n",
      "0.0\n"
     ]
    }
   ],
   "source": [
    "import random \n",
    "\n",
    "succes = 0\n",
    "for serie in range(10):\n",
    "    for simu in range(10): \n",
    "        succes = 0\n",
    "        if random.randint(0,1) == 0:\n",
    "            succes = succes + 1\n",
    "    print(succes/10) "
   ]
  },
  {
   "cell_type": "markdown",
   "metadata": {},
   "source": [
    "### Exercice 59 "
   ]
  },
  {
   "cell_type": "code",
   "execution_count": 30,
   "metadata": {},
   "outputs": [],
   "source": [
    "import random\n",
    "\n",
    "def fonctiondesimulationdeQuentin():\n",
    "    succes = 0\n",
    "    for simu in range(400): #le tirage est fait 400 fois\n",
    "        b1 = random.randint(1, 10)\n",
    "        b2 = random.randint(1, 10)\n",
    "        if b1 <= 3 and b2 > 3:\n",
    "            succes = succes + 1\n",
    "    return succes/400\n",
    "        \n",
    "        "
   ]
  },
  {
   "cell_type": "markdown",
   "metadata": {},
   "source": [
    "a. L'urne contient 3+7 = 10 boules.\n",
    "Le tirage d'une boule est représentée par random.randint(1, 10).\n",
    "Les deux boules sont représentées par les variables b1 et b2.\n",
    "b1 <= 3 représente le cas où la première boule est verte.\n",
    "b2 > 3 représente le cas où la seconde boule est orange.\n",
    "le choix est donc : 1,2,3 représentent les trois boules vertes et 4, ...,10 représentent les 7 boules oranges."
   ]
  },
  {
   "cell_type": "code",
   "execution_count": 31,
   "metadata": {},
   "outputs": [
    {
     "name": "stdout",
     "output_type": "stream",
     "text": [
      "0.205\n",
      "0.2025\n",
      "0.2375\n",
      "0.2525\n",
      "0.2125\n",
      "0.19\n",
      "0.2425\n",
      "0.2225\n",
      "0.2325\n",
      "0.2425\n"
     ]
    }
   ],
   "source": [
    "for test in range(10):\n",
    "    print(fonctiondesimulationdeQuentin())"
   ]
  },
  {
   "cell_type": "markdown",
   "metadata": {},
   "source": [
    "À l'aide des simulations, cette probabilité est proche de 0,2."
   ]
  }
 ],
 "metadata": {
  "kernelspec": {
   "display_name": "Python 3",
   "language": "python",
   "name": "python3"
  },
  "language_info": {
   "codemirror_mode": {
    "name": "ipython",
    "version": 3
   },
   "file_extension": ".py",
   "mimetype": "text/x-python",
   "name": "python",
   "nbconvert_exporter": "python",
   "pygments_lexer": "ipython3",
   "version": "3.7.7"
  }
 },
 "nbformat": 4,
 "nbformat_minor": 4
}
