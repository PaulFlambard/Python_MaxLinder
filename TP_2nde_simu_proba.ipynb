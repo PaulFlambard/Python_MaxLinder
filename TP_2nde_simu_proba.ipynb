{
 "cells": [
  {
   "cell_type": "markdown",
   "metadata": {},
   "source": [
    "# Simulation"
   ]
  },
  {
   "cell_type": "markdown",
   "metadata": {},
   "source": [
    "## Nombres pseudo-aléatoires"
   ]
  },
  {
   "cell_type": "raw",
   "metadata": {},
   "source": [
    "On observe ici l'effet des deux fonctions générant des nombres pseudo-aléatoires à connaître :\n",
    "- randint(foo, bar) qui génère un nombre entier pseudo-aléatoire compris entre les entiers foo et bar.\n",
    "- random() qui génère un nombre décimal pseudo aléatoire dans l'intervalle [0 ; 1[."
   ]
  },
  {
   "cell_type": "code",
   "execution_count": null,
   "metadata": {},
   "outputs": [],
   "source": [
    "import random\n",
    "print(random.randint(1, 8)) #renvoie un nb entier \"aléatoire\" entre 1 et 8#\n",
    "print(2*random.random()) #renvoie un nb décimal \"aléatoire\" entre 0 et 2#"
   ]
  },
  {
   "cell_type": "code",
   "execution_count": null,
   "metadata": {},
   "outputs": [],
   "source": [
    "for test in range(10):\n",
    "    print(random.randint(1, 8))"
   ]
  },
  {
   "cell_type": "code",
   "execution_count": null,
   "metadata": {},
   "outputs": [],
   "source": [
    "for test in range(5):\n",
    "    print(random.random())"
   ]
  },
  {
   "cell_type": "markdown",
   "metadata": {},
   "source": [
    "## Exemples de simulation"
   ]
  },
  {
   "cell_type": "raw",
   "metadata": {},
   "source": [
    "La fonction en Python freq_4 va simuler 1000 lancers de dé (avec random.randint(1, 6)) et tester si le résultat vaut 4 (avec == 4). Elle compte le nombre de \"4\" obtenus avec la varaible cpt et retourne cpt/1000 soit la fréquence de \"4\"."
   ]
  },
  {
   "cell_type": "code",
   "execution_count": null,
   "metadata": {},
   "outputs": [],
   "source": [
    "def freq_4():\n",
    "    cpt = 0 #on initie une variable à 0#\n",
    "    for k in range(1000):\n",
    "        if random.randint(1, 6) == 4: #~lancer du dé, on teste si on a 4#\n",
    "            cpt = cpt + 1 #si 4, le compteur +1#\n",
    "    return cpt/1000 #fréq : on divise le nb de 4 par le nb de lancers#\n",
    "\n",
    "for test in range(5):\n",
    "    print(freq_4()) #fait 5*1000 lancers de dé et cpt les 4#"
   ]
  },
  {
   "cell_type": "markdown",
   "metadata": {},
   "source": [
    "## Représentation de fréquences, convergence vers la probabilité"
   ]
  },
  {
   "cell_type": "markdown",
   "metadata": {},
   "source": [
    "Il n'est pas nécessaire de maîtriser le code ci-dessous.\n",
    "On reprend la fonction freq_4 et on représente la fonction qui au nombre de lancers associe la fréquence de \"4\" obtenus jusqu'à ce lancer."
   ]
  },
  {
   "cell_type": "code",
   "execution_count": null,
   "metadata": {},
   "outputs": [],
   "source": [
    "import matplotlib.pyplot as plt #importe les fonctions de graphique de Python#\n",
    "\n",
    "def repr_freq_4():\n",
    "    cpt, n = 0, 0\n",
    "    FCG = [] #va stocker les freq de 4#\n",
    "    for k in range(10000):\n",
    "        if random.randint(1, 6) == 4:\n",
    "            cpt = cpt + 1\n",
    "        n = n + 1 #compte le numéro du lancer#\n",
    "        FCG.append(cpt/n)\n",
    "    aX = list(range(1, 10001)) #axe des abs#\n",
    "    plt.plot(aX, FCG, label='Courbe de fréquences cumulées')\n",
    "    plt.plot(aX, [1/6]*10000, label='probabilité théorique : 1/6')\n",
    "    plt.xlabel('Nombre de lancers')\n",
    "    plt.ylabel('Fréquence cumulée en fonction du nombre de lancers')\n",
    "    plt.title('Évolution de la fréquence de \"4\" en fonction du nombre de lancers de dé')    \n",
    "    plt.grid()\n",
    "    plt.show()\n",
    "    return None\n",
    "\n",
    "repr_freq_4()"
   ]
  },
  {
   "cell_type": "code",
   "execution_count": null,
   "metadata": {},
   "outputs": [],
   "source": []
  }
 ],
 "metadata": {
  "kernelspec": {
   "display_name": "Python 3",
   "language": "python",
   "name": "python3"
  },
  "language_info": {
   "codemirror_mode": {
    "name": "ipython",
    "version": 3
   },
   "file_extension": ".py",
   "mimetype": "text/x-python",
   "name": "python",
   "nbconvert_exporter": "python",
   "pygments_lexer": "ipython3",
   "version": "3.7.6"
  }
 },
 "nbformat": 4,
 "nbformat_minor": 4
}
